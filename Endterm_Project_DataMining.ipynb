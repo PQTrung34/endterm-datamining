{
 "cells": [
  {
   "cell_type": "markdown",
   "metadata": {
    "id": "sy6AImvDc8Dc"
   },
   "source": [
    "# Set Up"
   ]
  },
  {
   "cell_type": "code",
   "execution_count": 1,
   "metadata": {
    "id": "DQRzbTzec6y9"
   },
   "outputs": [],
   "source": [
    "import pandas as pd\n",
    "import seaborn as sns\n",
    "import matplotlib.pyplot as plt\n",
    "import numpy as np\n",
    "\n",
    "from sklearn.model_selection import train_test_split\n",
    "from sklearn.linear_model import LogisticRegression\n",
    "from sklearn.metrics import accuracy_score, confusion_matrix, classification_report\n",
    "from sklearn.preprocessing import StandardScaler, LabelEncoder\n",
    "from sklearn.datasets import make_classification"
   ]
  },
  {
   "cell_type": "code",
   "execution_count": 2,
   "metadata": {
    "id": "SkyxMRduk-1s"
   },
   "outputs": [],
   "source": [
    "# pd.set_option('display.max_columns', None)\n",
    "# pd.set_option('display.max_rows', None)\n",
    "# pd.options.display.max_columns = None\n",
    "# pd.options.display.max_rows = None"
   ]
  },
  {
   "cell_type": "markdown",
   "metadata": {
    "id": "flD13VzfdTk8"
   },
   "source": [
    "# Check Data"
   ]
  },
  {
   "cell_type": "code",
   "execution_count": 4,
   "metadata": {
    "id": "uvf5XDQLcuej"
   },
   "outputs": [],
   "source": [
    "accepted = pd.read_csv('accepted_2007_to_2018Q4.csv', low_memory=False)"
   ]
  },
  {
   "cell_type": "code",
   "execution_count": 5,
   "metadata": {
    "colab": {
     "base_uri": "https://localhost:8080/",
     "height": 342
    },
    "id": "KFFw6GN3WVc1",
    "outputId": "56e85755-2a20-4825-a069-00eb35485e77"
   },
   "outputs": [
    {
     "data": {
      "text/html": [
       "<div>\n",
       "<style scoped>\n",
       "    .dataframe tbody tr th:only-of-type {\n",
       "        vertical-align: middle;\n",
       "    }\n",
       "\n",
       "    .dataframe tbody tr th {\n",
       "        vertical-align: top;\n",
       "    }\n",
       "\n",
       "    .dataframe thead th {\n",
       "        text-align: right;\n",
       "    }\n",
       "</style>\n",
       "<table border=\"1\" class=\"dataframe\">\n",
       "  <thead>\n",
       "    <tr style=\"text-align: right;\">\n",
       "      <th></th>\n",
       "      <th>id</th>\n",
       "      <th>member_id</th>\n",
       "      <th>loan_amnt</th>\n",
       "      <th>funded_amnt</th>\n",
       "      <th>funded_amnt_inv</th>\n",
       "      <th>term</th>\n",
       "      <th>int_rate</th>\n",
       "      <th>installment</th>\n",
       "      <th>grade</th>\n",
       "      <th>sub_grade</th>\n",
       "      <th>...</th>\n",
       "      <th>hardship_payoff_balance_amount</th>\n",
       "      <th>hardship_last_payment_amount</th>\n",
       "      <th>disbursement_method</th>\n",
       "      <th>debt_settlement_flag</th>\n",
       "      <th>debt_settlement_flag_date</th>\n",
       "      <th>settlement_status</th>\n",
       "      <th>settlement_date</th>\n",
       "      <th>settlement_amount</th>\n",
       "      <th>settlement_percentage</th>\n",
       "      <th>settlement_term</th>\n",
       "    </tr>\n",
       "  </thead>\n",
       "  <tbody>\n",
       "    <tr>\n",
       "      <th>0</th>\n",
       "      <td>68407277</td>\n",
       "      <td>NaN</td>\n",
       "      <td>3600.0</td>\n",
       "      <td>3600.0</td>\n",
       "      <td>3600.0</td>\n",
       "      <td>36 months</td>\n",
       "      <td>13.99</td>\n",
       "      <td>123.03</td>\n",
       "      <td>C</td>\n",
       "      <td>C4</td>\n",
       "      <td>...</td>\n",
       "      <td>NaN</td>\n",
       "      <td>NaN</td>\n",
       "      <td>Cash</td>\n",
       "      <td>N</td>\n",
       "      <td>NaN</td>\n",
       "      <td>NaN</td>\n",
       "      <td>NaN</td>\n",
       "      <td>NaN</td>\n",
       "      <td>NaN</td>\n",
       "      <td>NaN</td>\n",
       "    </tr>\n",
       "    <tr>\n",
       "      <th>1</th>\n",
       "      <td>68355089</td>\n",
       "      <td>NaN</td>\n",
       "      <td>24700.0</td>\n",
       "      <td>24700.0</td>\n",
       "      <td>24700.0</td>\n",
       "      <td>36 months</td>\n",
       "      <td>11.99</td>\n",
       "      <td>820.28</td>\n",
       "      <td>C</td>\n",
       "      <td>C1</td>\n",
       "      <td>...</td>\n",
       "      <td>NaN</td>\n",
       "      <td>NaN</td>\n",
       "      <td>Cash</td>\n",
       "      <td>N</td>\n",
       "      <td>NaN</td>\n",
       "      <td>NaN</td>\n",
       "      <td>NaN</td>\n",
       "      <td>NaN</td>\n",
       "      <td>NaN</td>\n",
       "      <td>NaN</td>\n",
       "    </tr>\n",
       "    <tr>\n",
       "      <th>2</th>\n",
       "      <td>68341763</td>\n",
       "      <td>NaN</td>\n",
       "      <td>20000.0</td>\n",
       "      <td>20000.0</td>\n",
       "      <td>20000.0</td>\n",
       "      <td>60 months</td>\n",
       "      <td>10.78</td>\n",
       "      <td>432.66</td>\n",
       "      <td>B</td>\n",
       "      <td>B4</td>\n",
       "      <td>...</td>\n",
       "      <td>NaN</td>\n",
       "      <td>NaN</td>\n",
       "      <td>Cash</td>\n",
       "      <td>N</td>\n",
       "      <td>NaN</td>\n",
       "      <td>NaN</td>\n",
       "      <td>NaN</td>\n",
       "      <td>NaN</td>\n",
       "      <td>NaN</td>\n",
       "      <td>NaN</td>\n",
       "    </tr>\n",
       "    <tr>\n",
       "      <th>3</th>\n",
       "      <td>66310712</td>\n",
       "      <td>NaN</td>\n",
       "      <td>35000.0</td>\n",
       "      <td>35000.0</td>\n",
       "      <td>35000.0</td>\n",
       "      <td>60 months</td>\n",
       "      <td>14.85</td>\n",
       "      <td>829.90</td>\n",
       "      <td>C</td>\n",
       "      <td>C5</td>\n",
       "      <td>...</td>\n",
       "      <td>NaN</td>\n",
       "      <td>NaN</td>\n",
       "      <td>Cash</td>\n",
       "      <td>N</td>\n",
       "      <td>NaN</td>\n",
       "      <td>NaN</td>\n",
       "      <td>NaN</td>\n",
       "      <td>NaN</td>\n",
       "      <td>NaN</td>\n",
       "      <td>NaN</td>\n",
       "    </tr>\n",
       "    <tr>\n",
       "      <th>4</th>\n",
       "      <td>68476807</td>\n",
       "      <td>NaN</td>\n",
       "      <td>10400.0</td>\n",
       "      <td>10400.0</td>\n",
       "      <td>10400.0</td>\n",
       "      <td>60 months</td>\n",
       "      <td>22.45</td>\n",
       "      <td>289.91</td>\n",
       "      <td>F</td>\n",
       "      <td>F1</td>\n",
       "      <td>...</td>\n",
       "      <td>NaN</td>\n",
       "      <td>NaN</td>\n",
       "      <td>Cash</td>\n",
       "      <td>N</td>\n",
       "      <td>NaN</td>\n",
       "      <td>NaN</td>\n",
       "      <td>NaN</td>\n",
       "      <td>NaN</td>\n",
       "      <td>NaN</td>\n",
       "      <td>NaN</td>\n",
       "    </tr>\n",
       "  </tbody>\n",
       "</table>\n",
       "<p>5 rows × 151 columns</p>\n",
       "</div>"
      ],
      "text/plain": [
       "         id  member_id  loan_amnt  funded_amnt  funded_amnt_inv        term  \\\n",
       "0  68407277        NaN     3600.0       3600.0           3600.0   36 months   \n",
       "1  68355089        NaN    24700.0      24700.0          24700.0   36 months   \n",
       "2  68341763        NaN    20000.0      20000.0          20000.0   60 months   \n",
       "3  66310712        NaN    35000.0      35000.0          35000.0   60 months   \n",
       "4  68476807        NaN    10400.0      10400.0          10400.0   60 months   \n",
       "\n",
       "   int_rate  installment grade sub_grade  ... hardship_payoff_balance_amount  \\\n",
       "0     13.99       123.03     C        C4  ...                            NaN   \n",
       "1     11.99       820.28     C        C1  ...                            NaN   \n",
       "2     10.78       432.66     B        B4  ...                            NaN   \n",
       "3     14.85       829.90     C        C5  ...                            NaN   \n",
       "4     22.45       289.91     F        F1  ...                            NaN   \n",
       "\n",
       "  hardship_last_payment_amount disbursement_method  debt_settlement_flag  \\\n",
       "0                          NaN                Cash                     N   \n",
       "1                          NaN                Cash                     N   \n",
       "2                          NaN                Cash                     N   \n",
       "3                          NaN                Cash                     N   \n",
       "4                          NaN                Cash                     N   \n",
       "\n",
       "  debt_settlement_flag_date settlement_status settlement_date  \\\n",
       "0                       NaN               NaN             NaN   \n",
       "1                       NaN               NaN             NaN   \n",
       "2                       NaN               NaN             NaN   \n",
       "3                       NaN               NaN             NaN   \n",
       "4                       NaN               NaN             NaN   \n",
       "\n",
       "  settlement_amount settlement_percentage settlement_term  \n",
       "0               NaN                   NaN             NaN  \n",
       "1               NaN                   NaN             NaN  \n",
       "2               NaN                   NaN             NaN  \n",
       "3               NaN                   NaN             NaN  \n",
       "4               NaN                   NaN             NaN  \n",
       "\n",
       "[5 rows x 151 columns]"
      ]
     },
     "execution_count": 5,
     "metadata": {},
     "output_type": "execute_result"
    }
   ],
   "source": [
    "accepted.head()"
   ]
  },
  {
   "cell_type": "code",
   "execution_count": 6,
   "metadata": {
    "colab": {
     "base_uri": "https://localhost:8080/"
    },
    "id": "br26UgR6bwi_",
    "outputId": "eac18191-d6f0-4a66-c22e-537368239b9c"
   },
   "outputs": [
    {
     "data": {
      "text/plain": [
       "(2260701, 151)"
      ]
     },
     "execution_count": 6,
     "metadata": {},
     "output_type": "execute_result"
    }
   ],
   "source": [
    "accepted.shape"
   ]
  },
  {
   "cell_type": "code",
   "execution_count": 7,
   "metadata": {
    "colab": {
     "base_uri": "https://localhost:8080/"
    },
    "id": "4-nSwUhhbzz8",
    "outputId": "9eed4ee6-9ba9-4a56-9c08-26c0d133025b"
   },
   "outputs": [
    {
     "name": "stdout",
     "output_type": "stream",
     "text": [
      "<class 'pandas.core.frame.DataFrame'>\n",
      "RangeIndex: 2260701 entries, 0 to 2260700\n",
      "Columns: 151 entries, id to settlement_term\n",
      "dtypes: float64(113), object(38)\n",
      "memory usage: 2.5+ GB\n"
     ]
    }
   ],
   "source": [
    "accepted.info()"
   ]
  },
  {
   "cell_type": "code",
   "execution_count": 8,
   "metadata": {
    "colab": {
     "base_uri": "https://localhost:8080/",
     "height": 349
    },
    "id": "Z8_6rdbhb1vd",
    "outputId": "e3075368-c8dc-4f37-d7df-66384231da3a"
   },
   "outputs": [
    {
     "data": {
      "text/html": [
       "<div>\n",
       "<style scoped>\n",
       "    .dataframe tbody tr th:only-of-type {\n",
       "        vertical-align: middle;\n",
       "    }\n",
       "\n",
       "    .dataframe tbody tr th {\n",
       "        vertical-align: top;\n",
       "    }\n",
       "\n",
       "    .dataframe thead th {\n",
       "        text-align: right;\n",
       "    }\n",
       "</style>\n",
       "<table border=\"1\" class=\"dataframe\">\n",
       "  <thead>\n",
       "    <tr style=\"text-align: right;\">\n",
       "      <th></th>\n",
       "      <th>member_id</th>\n",
       "      <th>loan_amnt</th>\n",
       "      <th>funded_amnt</th>\n",
       "      <th>funded_amnt_inv</th>\n",
       "      <th>int_rate</th>\n",
       "      <th>installment</th>\n",
       "      <th>annual_inc</th>\n",
       "      <th>dti</th>\n",
       "      <th>delinq_2yrs</th>\n",
       "      <th>fico_range_low</th>\n",
       "      <th>...</th>\n",
       "      <th>deferral_term</th>\n",
       "      <th>hardship_amount</th>\n",
       "      <th>hardship_length</th>\n",
       "      <th>hardship_dpd</th>\n",
       "      <th>orig_projected_additional_accrued_interest</th>\n",
       "      <th>hardship_payoff_balance_amount</th>\n",
       "      <th>hardship_last_payment_amount</th>\n",
       "      <th>settlement_amount</th>\n",
       "      <th>settlement_percentage</th>\n",
       "      <th>settlement_term</th>\n",
       "    </tr>\n",
       "  </thead>\n",
       "  <tbody>\n",
       "    <tr>\n",
       "      <th>count</th>\n",
       "      <td>0.0</td>\n",
       "      <td>2.260668e+06</td>\n",
       "      <td>2.260668e+06</td>\n",
       "      <td>2.260668e+06</td>\n",
       "      <td>2.260668e+06</td>\n",
       "      <td>2.260668e+06</td>\n",
       "      <td>2.260664e+06</td>\n",
       "      <td>2.258957e+06</td>\n",
       "      <td>2.260639e+06</td>\n",
       "      <td>2.260668e+06</td>\n",
       "      <td>...</td>\n",
       "      <td>10917.0</td>\n",
       "      <td>10917.000000</td>\n",
       "      <td>10917.0</td>\n",
       "      <td>10917.000000</td>\n",
       "      <td>8651.000000</td>\n",
       "      <td>10917.000000</td>\n",
       "      <td>10917.000000</td>\n",
       "      <td>34246.000000</td>\n",
       "      <td>34246.000000</td>\n",
       "      <td>34246.000000</td>\n",
       "    </tr>\n",
       "    <tr>\n",
       "      <th>mean</th>\n",
       "      <td>NaN</td>\n",
       "      <td>1.504693e+04</td>\n",
       "      <td>1.504166e+04</td>\n",
       "      <td>1.502344e+04</td>\n",
       "      <td>1.309283e+01</td>\n",
       "      <td>4.458068e+02</td>\n",
       "      <td>7.799243e+04</td>\n",
       "      <td>1.882420e+01</td>\n",
       "      <td>3.068792e-01</td>\n",
       "      <td>6.985882e+02</td>\n",
       "      <td>...</td>\n",
       "      <td>3.0</td>\n",
       "      <td>155.045981</td>\n",
       "      <td>3.0</td>\n",
       "      <td>13.743886</td>\n",
       "      <td>454.798089</td>\n",
       "      <td>11636.883942</td>\n",
       "      <td>193.994321</td>\n",
       "      <td>5010.664267</td>\n",
       "      <td>47.780365</td>\n",
       "      <td>13.191322</td>\n",
       "    </tr>\n",
       "    <tr>\n",
       "      <th>std</th>\n",
       "      <td>NaN</td>\n",
       "      <td>9.190245e+03</td>\n",
       "      <td>9.188413e+03</td>\n",
       "      <td>9.192332e+03</td>\n",
       "      <td>4.832138e+00</td>\n",
       "      <td>2.671735e+02</td>\n",
       "      <td>1.126962e+05</td>\n",
       "      <td>1.418333e+01</td>\n",
       "      <td>8.672303e-01</td>\n",
       "      <td>3.301038e+01</td>\n",
       "      <td>...</td>\n",
       "      <td>0.0</td>\n",
       "      <td>129.040594</td>\n",
       "      <td>0.0</td>\n",
       "      <td>9.671178</td>\n",
       "      <td>375.385500</td>\n",
       "      <td>7625.988281</td>\n",
       "      <td>198.629496</td>\n",
       "      <td>3693.122590</td>\n",
       "      <td>7.311822</td>\n",
       "      <td>8.159980</td>\n",
       "    </tr>\n",
       "    <tr>\n",
       "      <th>min</th>\n",
       "      <td>NaN</td>\n",
       "      <td>5.000000e+02</td>\n",
       "      <td>5.000000e+02</td>\n",
       "      <td>0.000000e+00</td>\n",
       "      <td>5.310000e+00</td>\n",
       "      <td>4.930000e+00</td>\n",
       "      <td>0.000000e+00</td>\n",
       "      <td>-1.000000e+00</td>\n",
       "      <td>0.000000e+00</td>\n",
       "      <td>6.100000e+02</td>\n",
       "      <td>...</td>\n",
       "      <td>3.0</td>\n",
       "      <td>0.640000</td>\n",
       "      <td>3.0</td>\n",
       "      <td>0.000000</td>\n",
       "      <td>1.920000</td>\n",
       "      <td>55.730000</td>\n",
       "      <td>0.010000</td>\n",
       "      <td>44.210000</td>\n",
       "      <td>0.200000</td>\n",
       "      <td>0.000000</td>\n",
       "    </tr>\n",
       "    <tr>\n",
       "      <th>25%</th>\n",
       "      <td>NaN</td>\n",
       "      <td>8.000000e+03</td>\n",
       "      <td>8.000000e+03</td>\n",
       "      <td>8.000000e+03</td>\n",
       "      <td>9.490000e+00</td>\n",
       "      <td>2.516500e+02</td>\n",
       "      <td>4.600000e+04</td>\n",
       "      <td>1.189000e+01</td>\n",
       "      <td>0.000000e+00</td>\n",
       "      <td>6.750000e+02</td>\n",
       "      <td>...</td>\n",
       "      <td>3.0</td>\n",
       "      <td>59.440000</td>\n",
       "      <td>3.0</td>\n",
       "      <td>5.000000</td>\n",
       "      <td>175.230000</td>\n",
       "      <td>5627.000000</td>\n",
       "      <td>44.440000</td>\n",
       "      <td>2208.000000</td>\n",
       "      <td>45.000000</td>\n",
       "      <td>6.000000</td>\n",
       "    </tr>\n",
       "    <tr>\n",
       "      <th>50%</th>\n",
       "      <td>NaN</td>\n",
       "      <td>1.290000e+04</td>\n",
       "      <td>1.287500e+04</td>\n",
       "      <td>1.280000e+04</td>\n",
       "      <td>1.262000e+01</td>\n",
       "      <td>3.779900e+02</td>\n",
       "      <td>6.500000e+04</td>\n",
       "      <td>1.784000e+01</td>\n",
       "      <td>0.000000e+00</td>\n",
       "      <td>6.900000e+02</td>\n",
       "      <td>...</td>\n",
       "      <td>3.0</td>\n",
       "      <td>119.140000</td>\n",
       "      <td>3.0</td>\n",
       "      <td>15.000000</td>\n",
       "      <td>352.770000</td>\n",
       "      <td>10028.390000</td>\n",
       "      <td>133.160000</td>\n",
       "      <td>4146.110000</td>\n",
       "      <td>45.000000</td>\n",
       "      <td>14.000000</td>\n",
       "    </tr>\n",
       "    <tr>\n",
       "      <th>75%</th>\n",
       "      <td>NaN</td>\n",
       "      <td>2.000000e+04</td>\n",
       "      <td>2.000000e+04</td>\n",
       "      <td>2.000000e+04</td>\n",
       "      <td>1.599000e+01</td>\n",
       "      <td>5.933200e+02</td>\n",
       "      <td>9.300000e+04</td>\n",
       "      <td>2.449000e+01</td>\n",
       "      <td>0.000000e+00</td>\n",
       "      <td>7.150000e+02</td>\n",
       "      <td>...</td>\n",
       "      <td>3.0</td>\n",
       "      <td>213.260000</td>\n",
       "      <td>3.0</td>\n",
       "      <td>22.000000</td>\n",
       "      <td>620.175000</td>\n",
       "      <td>16151.890000</td>\n",
       "      <td>284.190000</td>\n",
       "      <td>6850.172500</td>\n",
       "      <td>50.000000</td>\n",
       "      <td>18.000000</td>\n",
       "    </tr>\n",
       "    <tr>\n",
       "      <th>max</th>\n",
       "      <td>NaN</td>\n",
       "      <td>4.000000e+04</td>\n",
       "      <td>4.000000e+04</td>\n",
       "      <td>4.000000e+04</td>\n",
       "      <td>3.099000e+01</td>\n",
       "      <td>1.719830e+03</td>\n",
       "      <td>1.100000e+08</td>\n",
       "      <td>9.990000e+02</td>\n",
       "      <td>5.800000e+01</td>\n",
       "      <td>8.450000e+02</td>\n",
       "      <td>...</td>\n",
       "      <td>3.0</td>\n",
       "      <td>943.940000</td>\n",
       "      <td>3.0</td>\n",
       "      <td>37.000000</td>\n",
       "      <td>2680.890000</td>\n",
       "      <td>40306.410000</td>\n",
       "      <td>1407.860000</td>\n",
       "      <td>33601.000000</td>\n",
       "      <td>521.350000</td>\n",
       "      <td>181.000000</td>\n",
       "    </tr>\n",
       "  </tbody>\n",
       "</table>\n",
       "<p>8 rows × 113 columns</p>\n",
       "</div>"
      ],
      "text/plain": [
       "       member_id     loan_amnt   funded_amnt  funded_amnt_inv      int_rate  \\\n",
       "count        0.0  2.260668e+06  2.260668e+06     2.260668e+06  2.260668e+06   \n",
       "mean         NaN  1.504693e+04  1.504166e+04     1.502344e+04  1.309283e+01   \n",
       "std          NaN  9.190245e+03  9.188413e+03     9.192332e+03  4.832138e+00   \n",
       "min          NaN  5.000000e+02  5.000000e+02     0.000000e+00  5.310000e+00   \n",
       "25%          NaN  8.000000e+03  8.000000e+03     8.000000e+03  9.490000e+00   \n",
       "50%          NaN  1.290000e+04  1.287500e+04     1.280000e+04  1.262000e+01   \n",
       "75%          NaN  2.000000e+04  2.000000e+04     2.000000e+04  1.599000e+01   \n",
       "max          NaN  4.000000e+04  4.000000e+04     4.000000e+04  3.099000e+01   \n",
       "\n",
       "        installment    annual_inc           dti   delinq_2yrs  fico_range_low  \\\n",
       "count  2.260668e+06  2.260664e+06  2.258957e+06  2.260639e+06    2.260668e+06   \n",
       "mean   4.458068e+02  7.799243e+04  1.882420e+01  3.068792e-01    6.985882e+02   \n",
       "std    2.671735e+02  1.126962e+05  1.418333e+01  8.672303e-01    3.301038e+01   \n",
       "min    4.930000e+00  0.000000e+00 -1.000000e+00  0.000000e+00    6.100000e+02   \n",
       "25%    2.516500e+02  4.600000e+04  1.189000e+01  0.000000e+00    6.750000e+02   \n",
       "50%    3.779900e+02  6.500000e+04  1.784000e+01  0.000000e+00    6.900000e+02   \n",
       "75%    5.933200e+02  9.300000e+04  2.449000e+01  0.000000e+00    7.150000e+02   \n",
       "max    1.719830e+03  1.100000e+08  9.990000e+02  5.800000e+01    8.450000e+02   \n",
       "\n",
       "       ...  deferral_term  hardship_amount  hardship_length  hardship_dpd  \\\n",
       "count  ...        10917.0     10917.000000          10917.0  10917.000000   \n",
       "mean   ...            3.0       155.045981              3.0     13.743886   \n",
       "std    ...            0.0       129.040594              0.0      9.671178   \n",
       "min    ...            3.0         0.640000              3.0      0.000000   \n",
       "25%    ...            3.0        59.440000              3.0      5.000000   \n",
       "50%    ...            3.0       119.140000              3.0     15.000000   \n",
       "75%    ...            3.0       213.260000              3.0     22.000000   \n",
       "max    ...            3.0       943.940000              3.0     37.000000   \n",
       "\n",
       "       orig_projected_additional_accrued_interest  \\\n",
       "count                                 8651.000000   \n",
       "mean                                   454.798089   \n",
       "std                                    375.385500   \n",
       "min                                      1.920000   \n",
       "25%                                    175.230000   \n",
       "50%                                    352.770000   \n",
       "75%                                    620.175000   \n",
       "max                                   2680.890000   \n",
       "\n",
       "       hardship_payoff_balance_amount  hardship_last_payment_amount  \\\n",
       "count                    10917.000000                  10917.000000   \n",
       "mean                     11636.883942                    193.994321   \n",
       "std                       7625.988281                    198.629496   \n",
       "min                         55.730000                      0.010000   \n",
       "25%                       5627.000000                     44.440000   \n",
       "50%                      10028.390000                    133.160000   \n",
       "75%                      16151.890000                    284.190000   \n",
       "max                      40306.410000                   1407.860000   \n",
       "\n",
       "       settlement_amount  settlement_percentage  settlement_term  \n",
       "count       34246.000000           34246.000000     34246.000000  \n",
       "mean         5010.664267              47.780365        13.191322  \n",
       "std          3693.122590               7.311822         8.159980  \n",
       "min            44.210000               0.200000         0.000000  \n",
       "25%          2208.000000              45.000000         6.000000  \n",
       "50%          4146.110000              45.000000        14.000000  \n",
       "75%          6850.172500              50.000000        18.000000  \n",
       "max         33601.000000             521.350000       181.000000  \n",
       "\n",
       "[8 rows x 113 columns]"
      ]
     },
     "execution_count": 8,
     "metadata": {},
     "output_type": "execute_result"
    }
   ],
   "source": [
    "accepted.describe()"
   ]
  },
  {
   "cell_type": "markdown",
   "metadata": {
    "id": "iGtDV3tDexod"
   },
   "source": [
    "### Nhận xét\n",
    "- Dữ liệu có 2260701 dòng và 151 cột, trong đó có 113 cột định lượng và 38 cột định tính"
   ]
  },
  {
   "cell_type": "markdown",
   "metadata": {
    "id": "f9Hvw2i5e4s4"
   },
   "source": [
    "# EDA"
   ]
  },
  {
   "cell_type": "code",
   "execution_count": 9,
   "metadata": {
    "colab": {
     "base_uri": "https://localhost:8080/",
     "height": 423
    },
    "id": "X1ZAsQryk5h7",
    "outputId": "5bfb0b8d-93e4-4bb2-f47a-ee5afcbe5042"
   },
   "outputs": [
    {
     "data": {
      "text/html": [
       "<div>\n",
       "<style scoped>\n",
       "    .dataframe tbody tr th:only-of-type {\n",
       "        vertical-align: middle;\n",
       "    }\n",
       "\n",
       "    .dataframe tbody tr th {\n",
       "        vertical-align: top;\n",
       "    }\n",
       "\n",
       "    .dataframe thead th {\n",
       "        text-align: right;\n",
       "    }\n",
       "</style>\n",
       "<table border=\"1\" class=\"dataframe\">\n",
       "  <thead>\n",
       "    <tr style=\"text-align: right;\">\n",
       "      <th></th>\n",
       "      <th>0</th>\n",
       "      <th>1</th>\n",
       "      <th>2</th>\n",
       "    </tr>\n",
       "  </thead>\n",
       "  <tbody>\n",
       "    <tr>\n",
       "      <th>id</th>\n",
       "      <td>68407277</td>\n",
       "      <td>68355089</td>\n",
       "      <td>68341763</td>\n",
       "    </tr>\n",
       "    <tr>\n",
       "      <th>member_id</th>\n",
       "      <td>NaN</td>\n",
       "      <td>NaN</td>\n",
       "      <td>NaN</td>\n",
       "    </tr>\n",
       "    <tr>\n",
       "      <th>loan_amnt</th>\n",
       "      <td>3600.0</td>\n",
       "      <td>24700.0</td>\n",
       "      <td>20000.0</td>\n",
       "    </tr>\n",
       "    <tr>\n",
       "      <th>funded_amnt</th>\n",
       "      <td>3600.0</td>\n",
       "      <td>24700.0</td>\n",
       "      <td>20000.0</td>\n",
       "    </tr>\n",
       "    <tr>\n",
       "      <th>funded_amnt_inv</th>\n",
       "      <td>3600.0</td>\n",
       "      <td>24700.0</td>\n",
       "      <td>20000.0</td>\n",
       "    </tr>\n",
       "    <tr>\n",
       "      <th>...</th>\n",
       "      <td>...</td>\n",
       "      <td>...</td>\n",
       "      <td>...</td>\n",
       "    </tr>\n",
       "    <tr>\n",
       "      <th>settlement_status</th>\n",
       "      <td>NaN</td>\n",
       "      <td>NaN</td>\n",
       "      <td>NaN</td>\n",
       "    </tr>\n",
       "    <tr>\n",
       "      <th>settlement_date</th>\n",
       "      <td>NaN</td>\n",
       "      <td>NaN</td>\n",
       "      <td>NaN</td>\n",
       "    </tr>\n",
       "    <tr>\n",
       "      <th>settlement_amount</th>\n",
       "      <td>NaN</td>\n",
       "      <td>NaN</td>\n",
       "      <td>NaN</td>\n",
       "    </tr>\n",
       "    <tr>\n",
       "      <th>settlement_percentage</th>\n",
       "      <td>NaN</td>\n",
       "      <td>NaN</td>\n",
       "      <td>NaN</td>\n",
       "    </tr>\n",
       "    <tr>\n",
       "      <th>settlement_term</th>\n",
       "      <td>NaN</td>\n",
       "      <td>NaN</td>\n",
       "      <td>NaN</td>\n",
       "    </tr>\n",
       "  </tbody>\n",
       "</table>\n",
       "<p>151 rows × 3 columns</p>\n",
       "</div>"
      ],
      "text/plain": [
       "                              0         1         2\n",
       "id                     68407277  68355089  68341763\n",
       "member_id                   NaN       NaN       NaN\n",
       "loan_amnt                3600.0   24700.0   20000.0\n",
       "funded_amnt              3600.0   24700.0   20000.0\n",
       "funded_amnt_inv          3600.0   24700.0   20000.0\n",
       "...                         ...       ...       ...\n",
       "settlement_status           NaN       NaN       NaN\n",
       "settlement_date             NaN       NaN       NaN\n",
       "settlement_amount           NaN       NaN       NaN\n",
       "settlement_percentage       NaN       NaN       NaN\n",
       "settlement_term             NaN       NaN       NaN\n",
       "\n",
       "[151 rows x 3 columns]"
      ]
     },
     "execution_count": 9,
     "metadata": {},
     "output_type": "execute_result"
    }
   ],
   "source": [
    "accepted.head(3).T"
   ]
  },
  {
   "cell_type": "markdown",
   "metadata": {
    "id": "yzGUGcq5g7Rp"
   },
   "source": [
    "## Loan status"
   ]
  },
  {
   "cell_type": "code",
   "execution_count": 10,
   "metadata": {
    "colab": {
     "base_uri": "https://localhost:8080/"
    },
    "id": "MWbjbfTm_uXh",
    "outputId": "33275bae-2a14-497b-bd00-2aabf3db6ef3"
   },
   "outputs": [
    {
     "data": {
      "text/plain": [
       "Fully Paid                                             1076751\n",
       "Current                                                 878317\n",
       "Charged Off                                             268559\n",
       "Late (31-120 days)                                       21467\n",
       "In Grace Period                                           8436\n",
       "Late (16-30 days)                                         4349\n",
       "Does not meet the credit policy. Status:Fully Paid        1988\n",
       "Does not meet the credit policy. Status:Charged Off        761\n",
       "Default                                                     40\n",
       "Name: loan_status, dtype: int64"
      ]
     },
     "execution_count": 10,
     "metadata": {},
     "output_type": "execute_result"
    }
   ],
   "source": [
    "accepted['loan_status'].value_counts()"
   ]
  },
  {
   "cell_type": "code",
   "execution_count": 11,
   "metadata": {
    "colab": {
     "base_uri": "https://localhost:8080/",
     "height": 810
    },
    "id": "qAjNe4vBhBU5",
    "outputId": "b4361585-470b-45f4-e31d-2cc42fcf68af"
   },
   "outputs": [
    {
     "data": {
      "image/png": "[encoded data removed]",
      "text/plain": [
       "<Figure size 640x480 with 1 Axes>"
      ]
     },
     "metadata": {},
     "output_type": "display_data"
    }
   ],
   "source": [
    "sns.countplot(x='loan_status', data=accepted)\n",
    "plt.xticks(rotation=90)\n",
    "plt.show()"
   ]
  },
  {
   "cell_type": "markdown",
   "metadata": {
    "id": "S1q3XEBjO94b"
   },
   "source": [
    "Ta sẽ chỉ quan tâm tới 2 trạng thái của khoản vay là Fully Paid và Charged Off"
   ]
  },
  {
   "cell_type": "code",
   "execution_count": 12,
   "metadata": {
    "id": "9rGsza6YPE0L"
   },
   "outputs": [],
   "source": [
    "data = accepted[accepted['loan_status'].isin(['Fully Paid', 'Charged Off'])]"
   ]
  },
  {
   "cell_type": "code",
   "execution_count": 13,
   "metadata": {
    "colab": {
     "base_uri": "https://localhost:8080/",
     "height": 462
    },
    "id": "ExBk0ts8OEiY",
    "outputId": "b5f530cf-8644-4ebc-ffb5-cacc83cd10e4"
   },
   "outputs": [
    {
     "data": {
      "image/png": "[encoded data removed]",
      "text/plain": [
       "<Figure size 1000x500 with 1 Axes>"
      ]
     },
     "metadata": {},
     "output_type": "display_data"
    }
   ],
   "source": [
    "temp = pd.crosstab(data['grade'], data['loan_status'])\n",
    "temp.plot(kind='bar', stacked=True, figsize=(10, 5))\n",
    "plt.show()"
   ]
  },
  {
   "cell_type": "code",
   "execution_count": 14,
   "metadata": {
    "colab": {
     "base_uri": "https://localhost:8080/",
     "height": 590
    },
    "id": "Jryd19YOPau5",
    "outputId": "ae117e25-d252-4076-da46-c486cb96d016"
   },
   "outputs": [
    {
     "data": {
      "image/png": "[encoded data removed]",
      "text/plain": [
       "<Figure size 1000x500 with 1 Axes>"
      ]
     },
     "metadata": {},
     "output_type": "display_data"
    }
   ],
   "source": [
    "temp = pd.crosstab(data['purpose'], data['loan_status'])\n",
    "temp.plot(kind='bar', stacked=True, figsize=(10, 5))\n",
    "plt.show()"
   ]
  },
  {
   "cell_type": "code",
   "execution_count": 15,
   "metadata": {
    "colab": {
     "base_uri": "https://localhost:8080/",
     "height": 544
    },
    "id": "b-weGqJlPhmB",
    "outputId": "7ccd6abd-2d9f-4557-c52d-cd650dd5eb59"
   },
   "outputs": [
    {
     "data": {
      "image/png": "[encoded data removed]",
      "text/plain": [
       "<Figure size 1000x500 with 1 Axes>"
      ]
     },
     "metadata": {},
     "output_type": "display_data"
    }
   ],
   "source": [
    "temp = pd.crosstab(data['term'], data['loan_status'])\n",
    "temp.plot(kind='bar', stacked=True, figsize=(10, 5))\n",
    "plt.show()"
   ]
  },
  {
   "cell_type": "markdown",
   "metadata": {
    "id": "gpf7cCoqhN3Z"
   },
   "source": [
    "## Purpose"
   ]
  },
  {
   "cell_type": "code",
   "execution_count": 16,
   "metadata": {
    "colab": {
     "base_uri": "https://localhost:8080/"
    },
    "id": "F6-rRky8hPQx",
    "outputId": "68b90408-0d23-4357-d944-a0c9fb19588d"
   },
   "outputs": [
    {
     "data": {
      "text/plain": [
       "debt_consolidation    780321\n",
       "credit_card           295279\n",
       "home_improvement       87504\n",
       "other                  77875\n",
       "major_purchase         29425\n",
       "medical                15554\n",
       "small_business         15416\n",
       "car                    14585\n",
       "moving                  9480\n",
       "vacation                9065\n",
       "house                   7253\n",
       "wedding                 2294\n",
       "renewable_energy         933\n",
       "educational              326\n",
       "Name: purpose, dtype: int64"
      ]
     },
     "execution_count": 16,
     "metadata": {},
     "output_type": "execute_result"
    }
   ],
   "source": [
    "data['purpose'].value_counts()"
   ]
  },
  {
   "cell_type": "code",
   "execution_count": 17,
   "metadata": {
    "colab": {
     "base_uri": "https://localhost:8080/",
     "height": 575
    },
    "id": "3mmyAQ0gh8VO",
    "outputId": "d91ccc04-5893-4597-e566-cc99ea995b7f"
   },
   "outputs": [
    {
     "data": {
      "image/png": "[encoded data removed]",
      "text/plain": [
       "<Figure size 640x480 with 1 Axes>"
      ]
     },
     "metadata": {},
     "output_type": "display_data"
    }
   ],
   "source": [
    "sns.countplot(x='purpose', data=data, order=data['purpose'].value_counts().index)\n",
    "plt.xticks(rotation=90)\n",
    "plt.xlabel('Mục đích vay')\n",
    "plt.show()"
   ]
  },
  {
   "cell_type": "markdown",
   "metadata": {
    "id": "aUBH38VNiiqQ"
   },
   "source": [
    "## Grade"
   ]
  },
  {
   "cell_type": "code",
   "execution_count": 18,
   "metadata": {
    "colab": {
     "base_uri": "https://localhost:8080/"
    },
    "id": "6ocC0rfbijrl",
    "outputId": "33340efb-ffce-4e4c-857c-7fe092c2cdb7"
   },
   "outputs": [
    {
     "data": {
      "text/plain": [
       "B    392741\n",
       "C    381686\n",
       "A    235090\n",
       "D    200953\n",
       "E     93650\n",
       "F     32058\n",
       "G      9132\n",
       "Name: grade, dtype: int64"
      ]
     },
     "execution_count": 18,
     "metadata": {},
     "output_type": "execute_result"
    }
   ],
   "source": [
    "data['grade'].value_counts()"
   ]
  },
  {
   "cell_type": "code",
   "execution_count": 19,
   "metadata": {
    "colab": {
     "base_uri": "https://localhost:8080/",
     "height": 446
    },
    "id": "_moRVMW7ilnG",
    "outputId": "0221bef7-cc57-44f7-d5bc-70e016ce4e9b"
   },
   "outputs": [
    {
     "data": {
      "image/png": "[encoded data removed]",
      "text/plain": [
       "<Figure size 640x480 with 1 Axes>"
      ]
     },
     "metadata": {},
     "output_type": "display_data"
    }
   ],
   "source": [
    "sns.countplot(x='grade', data=data, order=data['grade'].value_counts().index)\n",
    "plt.xticks(rotation=90)\n",
    "plt.xlabel('Grade')\n",
    "plt.show()"
   ]
  },
  {
   "cell_type": "code",
   "execution_count": 20,
   "metadata": {
    "colab": {
     "base_uri": "https://localhost:8080/",
     "height": 455
    },
    "id": "DX4Fb68qQGSy",
    "outputId": "b1d7d0c7-6b48-46b1-bf77-2ffea7258be9"
   },
   "outputs": [
    {
     "data": {
      "image/png": "[encoded data removed]",
      "text/plain": [
       "<Figure size 640x480 with 1 Axes>"
      ]
     },
     "metadata": {},
     "output_type": "display_data"
    }
   ],
   "source": [
    "sns.countplot(x='sub_grade', data=data, order=data['sub_grade'].value_counts().index)\n",
    "plt.xticks(rotation=90)\n",
    "plt.xlabel('Grade')\n",
    "plt.show()"
   ]
  },
  {
   "cell_type": "markdown",
   "metadata": {
    "id": "UDrR0czYJhFd"
   },
   "source": [
    "## Term"
   ]
  },
  {
   "cell_type": "code",
   "execution_count": 21,
   "metadata": {
    "colab": {
     "base_uri": "https://localhost:8080/"
    },
    "id": "xeT-ncBIJikW",
    "outputId": "d6169d80-8f66-478b-91d2-3eeb85c21ab1"
   },
   "outputs": [
    {
     "data": {
      "text/plain": [
       " 36 months    1020743\n",
       " 60 months     324567\n",
       "Name: term, dtype: int64"
      ]
     },
     "execution_count": 21,
     "metadata": {},
     "output_type": "execute_result"
    }
   ],
   "source": [
    "data['term'].value_counts()"
   ]
  },
  {
   "cell_type": "code",
   "execution_count": 22,
   "metadata": {
    "colab": {
     "base_uri": "https://localhost:8080/",
     "height": 530
    },
    "id": "ehA6L-aAJl_1",
    "outputId": "187b87ea-39c9-4e28-bf75-e6afd07b35aa"
   },
   "outputs": [
    {
     "data": {
      "image/png": "[encoded data removed]",
      "text/plain": [
       "<Figure size 640x480 with 1 Axes>"
      ]
     },
     "metadata": {},
     "output_type": "display_data"
    }
   ],
   "source": [
    "sns.countplot(x='term', data=data, order=data['term'].value_counts().index)\n",
    "plt.xticks(rotation=90)\n",
    "plt.xlabel('Thời hạn vay')\n",
    "plt.show()"
   ]
  },
  {
   "cell_type": "markdown",
   "metadata": {
    "id": "Z3PXfvA2JwDm"
   },
   "source": [
    "## Rates"
   ]
  },
  {
   "cell_type": "code",
   "execution_count": 23,
   "metadata": {
    "colab": {
     "base_uri": "https://localhost:8080/",
     "height": 449
    },
    "id": "1-BBHzkwKUOU",
    "outputId": "a32f65ab-2b44-45c6-9577-fb11dc7f293b"
   },
   "outputs": [
    {
     "data": {
      "image/png": "[encoded data removed]",
      "text/plain": [
       "<Figure size 640x480 with 1 Axes>"
      ]
     },
     "metadata": {},
     "output_type": "display_data"
    }
   ],
   "source": [
    "sns.histplot(data['int_rate'])\n",
    "plt.xlabel('Lãi suất')\n",
    "plt.show()"
   ]
  },
  {
   "cell_type": "code",
   "execution_count": 24,
   "metadata": {
    "colab": {
     "base_uri": "https://localhost:8080/",
     "height": 649
    },
    "id": "PCOtKQpSJxYE",
    "outputId": "5a044301-8fb2-4a3e-8851-88fa582f87be"
   },
   "outputs": [
    {
     "name": "stderr",
     "output_type": "stream",
     "text": [
      "C:\\Users\\Quoc Trung\\anaconda3\\envs\\PQT\\lib\\site-packages\\ipykernel_launcher.py:1: UserWarning: \n",
      "\n",
      "`distplot` is a deprecated function and will be removed in seaborn v0.14.0.\n",
      "\n",
      "Please adapt your code to use either `displot` (a figure-level function with\n",
      "similar flexibility) or `histplot` (an axes-level function for histograms).\n",
      "\n",
      "For a guide to updating your code to use the new functions, please see\n",
      "https://gist.github.com/mwaskom/de44147ed2974457ad6372750bbe5751\n",
      "\n",
      "  \"\"\"Entry point for launching an IPython kernel.\n"
     ]
    },
    {
     "data": {
      "image/png": "[encoded data removed]",
      "text/plain": [
       "<Figure size 640x480 with 1 Axes>"
      ]
     },
     "metadata": {},
     "output_type": "display_data"
    }
   ],
   "source": [
    "sns.distplot(data['int_rate'])\n",
    "plt.show()"
   ]
  },
  {
   "cell_type": "markdown",
   "metadata": {
    "id": "lSf9Kew-WktQ"
   },
   "source": [
    "## Job"
   ]
  },
  {
   "cell_type": "code",
   "execution_count": 25,
   "metadata": {
    "colab": {
     "base_uri": "https://localhost:8080/"
    },
    "id": "ExCE1wRihJpW",
    "outputId": "4bc441d5-50be-4a69-d20b-283648c39825"
   },
   "outputs": [
    {
     "data": {
      "text/plain": [
       "array(['Debt consolidation', 'Business', nan, ..., 'takeitaway',\n",
       "       'Creditt Card Loan', 'debt reduction/hone updates'], dtype=object)"
      ]
     },
     "execution_count": 25,
     "metadata": {},
     "output_type": "execute_result"
    }
   ],
   "source": [
    "data['title'].unique()"
   ]
  },
  {
   "cell_type": "code",
   "execution_count": 26,
   "metadata": {
    "colab": {
     "base_uri": "https://localhost:8080/"
    },
    "id": "OVpIGtDdhMFm",
    "outputId": "5ba830cc-7c49-45ad-f64b-b216c3300309"
   },
   "outputs": [
    {
     "data": {
      "text/plain": [
       "61683"
      ]
     },
     "execution_count": 26,
     "metadata": {},
     "output_type": "execute_result"
    }
   ],
   "source": [
    "len(data['title'].unique())"
   ]
  },
  {
   "cell_type": "code",
   "execution_count": 27,
   "metadata": {
    "colab": {
     "base_uri": "https://localhost:8080/"
    },
    "id": "c4ap-5ADWwu4",
    "outputId": "905e01e0-8276-4789-f167-01e3b10ef705"
   },
   "outputs": [
    {
     "data": {
      "text/plain": [
       "array(['leadman', 'Engineer', 'truck driver', ..., 'personal investor',\n",
       "       'Sr. Photo Producer', 'Exec Dir Internal Audit'], dtype=object)"
      ]
     },
     "execution_count": 27,
     "metadata": {},
     "output_type": "execute_result"
    }
   ],
   "source": [
    "data['emp_title'].unique()"
   ]
  },
  {
   "cell_type": "code",
   "execution_count": 28,
   "metadata": {
    "colab": {
     "base_uri": "https://localhost:8080/"
    },
    "id": "ee5aAYGcWkGK",
    "outputId": "820267a9-76f0-43e6-c45a-c57a1bb198c3"
   },
   "outputs": [
    {
     "data": {
      "text/plain": [
       "378354"
      ]
     },
     "execution_count": 28,
     "metadata": {},
     "output_type": "execute_result"
    }
   ],
   "source": [
    "len(data['emp_title'].unique())"
   ]
  },
  {
   "cell_type": "code",
   "execution_count": 29,
   "metadata": {
    "colab": {
     "base_uri": "https://localhost:8080/"
    },
    "id": "4fg9Gb_aW2MH",
    "outputId": "e98e4493-77a8-4d3b-c6f4-e01e6b697e53"
   },
   "outputs": [
    {
     "data": {
      "text/plain": [
       "10+ years    442199\n",
       "2 years      121743\n",
       "< 1 year     108061\n",
       "3 years      107597\n",
       "1 year        88494\n",
       "5 years       84154\n",
       "4 years       80556\n",
       "6 years       62733\n",
       "8 years       60701\n",
       "7 years       59624\n",
       "9 years       50937\n",
       "Name: emp_length, dtype: int64"
      ]
     },
     "execution_count": 29,
     "metadata": {},
     "output_type": "execute_result"
    }
   ],
   "source": [
    "data['emp_length'].value_counts()"
   ]
  },
  {
   "cell_type": "code",
   "execution_count": 30,
   "metadata": {
    "colab": {
     "base_uri": "https://localhost:8080/",
     "height": 497
    },
    "id": "VwV1Qo2RXEYA",
    "outputId": "81dd8ed0-81b8-4a35-dd10-e18ad1705b1a"
   },
   "outputs": [
    {
     "data": {
      "image/png": "[encoded data removed]",
      "text/plain": [
       "<Figure size 640x480 with 1 Axes>"
      ]
     },
     "metadata": {},
     "output_type": "display_data"
    }
   ],
   "source": [
    "sns.countplot(x='emp_length', data=data, order=data['emp_length'].value_counts().index)\n",
    "plt.xticks(rotation=45)\n",
    "plt.xlabel('Thời gian làm việc')\n",
    "plt.show()"
   ]
  },
  {
   "cell_type": "markdown",
   "metadata": {
    "id": "qRngnFv-RaV5"
   },
   "source": [
    "## Home ownership"
   ]
  },
  {
   "cell_type": "code",
   "execution_count": 31,
   "metadata": {
    "colab": {
     "base_uri": "https://localhost:8080/"
    },
    "id": "AVrXNuVdRqIS",
    "outputId": "ce5fce74-3b2b-4eee-8a88-6969f2a5ab40"
   },
   "outputs": [
    {
     "data": {
      "text/plain": [
       "MORTGAGE    665579\n",
       "RENT        534421\n",
       "OWN         144832\n",
       "ANY            286\n",
       "OTHER          144\n",
       "NONE            48\n",
       "Name: home_ownership, dtype: int64"
      ]
     },
     "execution_count": 31,
     "metadata": {},
     "output_type": "execute_result"
    }
   ],
   "source": [
    "data['home_ownership'].value_counts()"
   ]
  },
  {
   "cell_type": "code",
   "execution_count": 32,
   "metadata": {
    "colab": {
     "base_uri": "https://localhost:8080/",
     "height": 515
    },
    "id": "ukY8Mtr6Rrdo",
    "outputId": "66890ff3-30d8-40aa-ed8e-badc7d3aa73e"
   },
   "outputs": [
    {
     "data": {
      "image/png": "[encoded data removed]",
      "text/plain": [
       "<Figure size 640x480 with 1 Axes>"
      ]
     },
     "metadata": {},
     "output_type": "display_data"
    }
   ],
   "source": [
    "sns.countplot(x='home_ownership', data=data, order=data['home_ownership'].value_counts().index)\n",
    "plt.xticks(rotation=90)\n",
    "plt.xlabel('Home ownership')\n",
    "plt.show()"
   ]
  },
  {
   "cell_type": "markdown",
   "metadata": {
    "id": "SIfs358Qe6G5"
   },
   "source": [
    "# Clean Data"
   ]
  },
  {
   "cell_type": "markdown",
   "metadata": {
    "id": "ANGObaBBe7l_"
   },
   "source": [
    "## Missing values"
   ]
  },
  {
   "cell_type": "code",
   "execution_count": 33,
   "metadata": {
    "colab": {
     "base_uri": "https://localhost:8080/"
    },
    "id": "sLoN_rFqe993",
    "outputId": "7cddc4dc-2b39-42e1-c024-24b08792d792"
   },
   "outputs": [
    {
     "data": {
      "text/plain": [
       "next_pymnt_d                                  1345310\n",
       "member_id                                     1345310\n",
       "orig_projected_additional_accrued_interest    1341551\n",
       "hardship_start_date                           1339556\n",
       "hardship_length                               1339556\n",
       "                                               ...   \n",
       "pub_rec                                             0\n",
       "open_acc                                            0\n",
       "fico_range_high                                     0\n",
       "fico_range_low                                      0\n",
       "id                                                  0\n",
       "Length: 151, dtype: int64"
      ]
     },
     "execution_count": 33,
     "metadata": {},
     "output_type": "execute_result"
    }
   ],
   "source": [
    "data.isnull().sum().sort_values(ascending=False)"
   ]
  },
  {
   "cell_type": "code",
   "execution_count": 34,
   "metadata": {
    "colab": {
     "base_uri": "https://localhost:8080/"
    },
    "id": "DRnx0ysUGcmF",
    "outputId": "b913b371-a920-44af-eede-2b930f24e1c2"
   },
   "outputs": [
    {
     "name": "stdout",
     "output_type": "stream",
     "text": [
      "Trước khi lọc có tổng cộng 151 cột.\n"
     ]
    }
   ],
   "source": [
    "print(f'Trước khi lọc có tổng cộng {len(data.columns)} cột.')"
   ]
  },
  {
   "cell_type": "code",
   "execution_count": 35,
   "metadata": {
    "id": "0YCLWgZtExb_"
   },
   "outputs": [],
   "source": [
    "# Ta sẽ loại bỏ các cột bị trống hơn 50% tổng dữ liệu\n",
    "def drop_column(df, threshold):\n",
    "    drop_col = []\n",
    "    total = len(accepted)\n",
    "    for col in df.columns:\n",
    "        if df[col].isnull().sum() / total >= threshold:\n",
    "            drop_col.append(col)\n",
    "    data = df.drop(columns=drop_col)\n",
    "    return data\n",
    "\n",
    "data = drop_column(data, 0.5)"
   ]
  },
  {
   "cell_type": "code",
   "execution_count": 36,
   "metadata": {
    "colab": {
     "base_uri": "https://localhost:8080/"
    },
    "id": "I-icSFRXGbYF",
    "outputId": "f16b9902-12a2-4581-e82e-816b2aa1074f"
   },
   "outputs": [
    {
     "name": "stdout",
     "output_type": "stream",
     "text": [
      "Sau khi lọc còn 112 cột.\n"
     ]
    }
   ],
   "source": [
    "print(f'Sau khi lọc còn {len(data.columns)} cột.')"
   ]
  },
  {
   "cell_type": "code",
   "execution_count": 37,
   "metadata": {
    "id": "WaWKKeqedGzT"
   },
   "outputs": [],
   "source": [
    "# Fill các giá trị null = 0\n",
    "data.fillna(0, inplace=True)"
   ]
  },
  {
   "cell_type": "markdown",
   "metadata": {
    "id": "Lu783X6pFXXi"
   },
   "source": [
    "## Duplicate"
   ]
  },
  {
   "cell_type": "code",
   "execution_count": 38,
   "metadata": {
    "id": "ttIs2LDCHYSV"
   },
   "outputs": [],
   "source": [
    "# Show các giá trị bị duplicate\n",
    "# data[data.duplicated()]"
   ]
  },
  {
   "cell_type": "code",
   "execution_count": 39,
   "metadata": {
    "id": "OeFjyhLoHKFV"
   },
   "outputs": [],
   "source": [
    "# data.duplicated().sum()"
   ]
  },
  {
   "cell_type": "markdown",
   "metadata": {
    "id": "mh3Lu144H7d0"
   },
   "source": [
    "Như vậy tập dữ liệu không có giá trị bị lặp."
   ]
  },
  {
   "cell_type": "markdown",
   "metadata": {
    "id": "Cpasvul9mdnX"
   },
   "source": [
    "# Xử lý giá trị object"
   ]
  },
  {
   "cell_type": "code",
   "execution_count": 40,
   "metadata": {
    "colab": {
     "base_uri": "https://localhost:8080/",
     "height": 342
    },
    "id": "2E8sezzEmdTH",
    "outputId": "860c5dbd-1fb0-493a-af2d-d41198b5eddf"
   },
   "outputs": [
    {
     "data": {
      "text/html": [
       "<div>\n",
       "<style scoped>\n",
       "    .dataframe tbody tr th:only-of-type {\n",
       "        vertical-align: middle;\n",
       "    }\n",
       "\n",
       "    .dataframe tbody tr th {\n",
       "        vertical-align: top;\n",
       "    }\n",
       "\n",
       "    .dataframe thead th {\n",
       "        text-align: right;\n",
       "    }\n",
       "</style>\n",
       "<table border=\"1\" class=\"dataframe\">\n",
       "  <thead>\n",
       "    <tr style=\"text-align: right;\">\n",
       "      <th></th>\n",
       "      <th>id</th>\n",
       "      <th>term</th>\n",
       "      <th>grade</th>\n",
       "      <th>sub_grade</th>\n",
       "      <th>emp_title</th>\n",
       "      <th>emp_length</th>\n",
       "      <th>home_ownership</th>\n",
       "      <th>verification_status</th>\n",
       "      <th>issue_d</th>\n",
       "      <th>loan_status</th>\n",
       "      <th>...</th>\n",
       "      <th>zip_code</th>\n",
       "      <th>addr_state</th>\n",
       "      <th>earliest_cr_line</th>\n",
       "      <th>initial_list_status</th>\n",
       "      <th>last_pymnt_d</th>\n",
       "      <th>last_credit_pull_d</th>\n",
       "      <th>application_type</th>\n",
       "      <th>hardship_flag</th>\n",
       "      <th>disbursement_method</th>\n",
       "      <th>debt_settlement_flag</th>\n",
       "    </tr>\n",
       "  </thead>\n",
       "  <tbody>\n",
       "    <tr>\n",
       "      <th>0</th>\n",
       "      <td>68407277</td>\n",
       "      <td>36 months</td>\n",
       "      <td>C</td>\n",
       "      <td>C4</td>\n",
       "      <td>leadman</td>\n",
       "      <td>10+ years</td>\n",
       "      <td>MORTGAGE</td>\n",
       "      <td>Not Verified</td>\n",
       "      <td>Dec-2015</td>\n",
       "      <td>Fully Paid</td>\n",
       "      <td>...</td>\n",
       "      <td>190xx</td>\n",
       "      <td>PA</td>\n",
       "      <td>Aug-2003</td>\n",
       "      <td>w</td>\n",
       "      <td>Jan-2019</td>\n",
       "      <td>Mar-2019</td>\n",
       "      <td>Individual</td>\n",
       "      <td>N</td>\n",
       "      <td>Cash</td>\n",
       "      <td>N</td>\n",
       "    </tr>\n",
       "    <tr>\n",
       "      <th>1</th>\n",
       "      <td>68355089</td>\n",
       "      <td>36 months</td>\n",
       "      <td>C</td>\n",
       "      <td>C1</td>\n",
       "      <td>Engineer</td>\n",
       "      <td>10+ years</td>\n",
       "      <td>MORTGAGE</td>\n",
       "      <td>Not Verified</td>\n",
       "      <td>Dec-2015</td>\n",
       "      <td>Fully Paid</td>\n",
       "      <td>...</td>\n",
       "      <td>577xx</td>\n",
       "      <td>SD</td>\n",
       "      <td>Dec-1999</td>\n",
       "      <td>w</td>\n",
       "      <td>Jun-2016</td>\n",
       "      <td>Mar-2019</td>\n",
       "      <td>Individual</td>\n",
       "      <td>N</td>\n",
       "      <td>Cash</td>\n",
       "      <td>N</td>\n",
       "    </tr>\n",
       "    <tr>\n",
       "      <th>2</th>\n",
       "      <td>68341763</td>\n",
       "      <td>60 months</td>\n",
       "      <td>B</td>\n",
       "      <td>B4</td>\n",
       "      <td>truck driver</td>\n",
       "      <td>10+ years</td>\n",
       "      <td>MORTGAGE</td>\n",
       "      <td>Not Verified</td>\n",
       "      <td>Dec-2015</td>\n",
       "      <td>Fully Paid</td>\n",
       "      <td>...</td>\n",
       "      <td>605xx</td>\n",
       "      <td>IL</td>\n",
       "      <td>Aug-2000</td>\n",
       "      <td>w</td>\n",
       "      <td>Jun-2017</td>\n",
       "      <td>Mar-2019</td>\n",
       "      <td>Joint App</td>\n",
       "      <td>N</td>\n",
       "      <td>Cash</td>\n",
       "      <td>N</td>\n",
       "    </tr>\n",
       "    <tr>\n",
       "      <th>4</th>\n",
       "      <td>68476807</td>\n",
       "      <td>60 months</td>\n",
       "      <td>F</td>\n",
       "      <td>F1</td>\n",
       "      <td>Contract Specialist</td>\n",
       "      <td>3 years</td>\n",
       "      <td>MORTGAGE</td>\n",
       "      <td>Source Verified</td>\n",
       "      <td>Dec-2015</td>\n",
       "      <td>Fully Paid</td>\n",
       "      <td>...</td>\n",
       "      <td>174xx</td>\n",
       "      <td>PA</td>\n",
       "      <td>Jun-1998</td>\n",
       "      <td>w</td>\n",
       "      <td>Jul-2016</td>\n",
       "      <td>Mar-2018</td>\n",
       "      <td>Individual</td>\n",
       "      <td>N</td>\n",
       "      <td>Cash</td>\n",
       "      <td>N</td>\n",
       "    </tr>\n",
       "    <tr>\n",
       "      <th>5</th>\n",
       "      <td>68426831</td>\n",
       "      <td>36 months</td>\n",
       "      <td>C</td>\n",
       "      <td>C3</td>\n",
       "      <td>Veterinary Tecnician</td>\n",
       "      <td>4 years</td>\n",
       "      <td>RENT</td>\n",
       "      <td>Source Verified</td>\n",
       "      <td>Dec-2015</td>\n",
       "      <td>Fully Paid</td>\n",
       "      <td>...</td>\n",
       "      <td>300xx</td>\n",
       "      <td>GA</td>\n",
       "      <td>Oct-1987</td>\n",
       "      <td>w</td>\n",
       "      <td>May-2017</td>\n",
       "      <td>May-2017</td>\n",
       "      <td>Individual</td>\n",
       "      <td>N</td>\n",
       "      <td>Cash</td>\n",
       "      <td>N</td>\n",
       "    </tr>\n",
       "  </tbody>\n",
       "</table>\n",
       "<p>5 rows × 24 columns</p>\n",
       "</div>"
      ],
      "text/plain": [
       "         id        term grade sub_grade             emp_title emp_length  \\\n",
       "0  68407277   36 months     C        C4               leadman  10+ years   \n",
       "1  68355089   36 months     C        C1              Engineer  10+ years   \n",
       "2  68341763   60 months     B        B4          truck driver  10+ years   \n",
       "4  68476807   60 months     F        F1   Contract Specialist    3 years   \n",
       "5  68426831   36 months     C        C3  Veterinary Tecnician    4 years   \n",
       "\n",
       "  home_ownership verification_status   issue_d loan_status  ... zip_code  \\\n",
       "0       MORTGAGE        Not Verified  Dec-2015  Fully Paid  ...    190xx   \n",
       "1       MORTGAGE        Not Verified  Dec-2015  Fully Paid  ...    577xx   \n",
       "2       MORTGAGE        Not Verified  Dec-2015  Fully Paid  ...    605xx   \n",
       "4       MORTGAGE     Source Verified  Dec-2015  Fully Paid  ...    174xx   \n",
       "5           RENT     Source Verified  Dec-2015  Fully Paid  ...    300xx   \n",
       "\n",
       "  addr_state earliest_cr_line initial_list_status last_pymnt_d  \\\n",
       "0         PA         Aug-2003                   w     Jan-2019   \n",
       "1         SD         Dec-1999                   w     Jun-2016   \n",
       "2         IL         Aug-2000                   w     Jun-2017   \n",
       "4         PA         Jun-1998                   w     Jul-2016   \n",
       "5         GA         Oct-1987                   w     May-2017   \n",
       "\n",
       "  last_credit_pull_d application_type hardship_flag disbursement_method  \\\n",
       "0           Mar-2019       Individual             N                Cash   \n",
       "1           Mar-2019       Individual             N                Cash   \n",
       "2           Mar-2019        Joint App             N                Cash   \n",
       "4           Mar-2018       Individual             N                Cash   \n",
       "5           May-2017       Individual             N                Cash   \n",
       "\n",
       "  debt_settlement_flag  \n",
       "0                    N  \n",
       "1                    N  \n",
       "2                    N  \n",
       "4                    N  \n",
       "5                    N  \n",
       "\n",
       "[5 rows x 24 columns]"
      ]
     },
     "execution_count": 40,
     "metadata": {},
     "output_type": "execute_result"
    }
   ],
   "source": [
    "data.select_dtypes('object').head()"
   ]
  },
  {
   "cell_type": "code",
   "execution_count": 41,
   "metadata": {
    "id": "Ar2k7aWjVhdf"
   },
   "outputs": [],
   "source": [
    "# Drop cột url và id\n",
    "data.drop(columns=['url', 'id', 'title', 'emp_title'], inplace=True)"
   ]
  },
  {
   "cell_type": "code",
   "execution_count": 42,
   "metadata": {
    "id": "VX922ZDUVPnX"
   },
   "outputs": [],
   "source": [
    "obj = ['verification_status', 'pymnt_plan', 'zip_code', 'addr_state', 'initial_list_status', 'application_type' ,'hardship_flag', 'disbursement_method', 'debt_settlement_flag']\n",
    "date = ['issue_d', 'earliest_cr_line', 'last_pymnt_d', 'last_credit_pull_d']\n",
    "data.drop(columns=obj+date, inplace=True)"
   ]
  },
  {
   "cell_type": "markdown",
   "metadata": {
    "id": "FpQBlF-je7jH"
   },
   "source": [
    "# Adjust Data"
   ]
  },
  {
   "cell_type": "markdown",
   "metadata": {
    "id": "u2GpUsDae9IJ"
   },
   "source": [
    "# Feature Engineering"
   ]
  },
  {
   "cell_type": "markdown",
   "metadata": {
    "id": "nik0mxuEQ4tA"
   },
   "source": [
    "## Onehot Encoding"
   ]
  },
  {
   "cell_type": "code",
   "execution_count": 43,
   "metadata": {
    "id": "GjSvYjFTQzIC"
   },
   "outputs": [],
   "source": [
    "# Onehot encode cột term\n",
    "data = pd.get_dummies(data, columns=['term'])"
   ]
  },
  {
   "cell_type": "markdown",
   "metadata": {
    "id": "EX02XL97RCBK"
   },
   "source": [
    "## String indexer"
   ]
  },
  {
   "cell_type": "code",
   "execution_count": 44,
   "metadata": {
    "id": "y_Vwmx-5Yhr1"
   },
   "outputs": [],
   "source": [
    "# # Label encode\n",
    "# le = LabelEncoder()"
   ]
  },
  {
   "cell_type": "code",
   "execution_count": 45,
   "metadata": {
    "colab": {
     "base_uri": "https://localhost:8080/",
     "height": 676
    },
    "id": "_geDrJ7VkbIL",
    "outputId": "2a153ad5-a4d3-4bed-a773-f9b996feea7c"
   },
   "outputs": [
    {
     "data": {
      "text/html": [
       "<div>\n",
       "<style scoped>\n",
       "    .dataframe tbody tr th:only-of-type {\n",
       "        vertical-align: middle;\n",
       "    }\n",
       "\n",
       "    .dataframe tbody tr th {\n",
       "        vertical-align: top;\n",
       "    }\n",
       "\n",
       "    .dataframe thead th {\n",
       "        text-align: right;\n",
       "    }\n",
       "</style>\n",
       "<table border=\"1\" class=\"dataframe\">\n",
       "  <thead>\n",
       "    <tr style=\"text-align: right;\">\n",
       "      <th></th>\n",
       "      <th>loan_status</th>\n",
       "      <th>loan_status_encode</th>\n",
       "    </tr>\n",
       "  </thead>\n",
       "  <tbody>\n",
       "    <tr>\n",
       "      <th>1167845</th>\n",
       "      <td>Fully Paid</td>\n",
       "      <td>1</td>\n",
       "    </tr>\n",
       "    <tr>\n",
       "      <th>393979</th>\n",
       "      <td>Fully Paid</td>\n",
       "      <td>1</td>\n",
       "    </tr>\n",
       "    <tr>\n",
       "      <th>1809286</th>\n",
       "      <td>Fully Paid</td>\n",
       "      <td>1</td>\n",
       "    </tr>\n",
       "    <tr>\n",
       "      <th>97350</th>\n",
       "      <td>Fully Paid</td>\n",
       "      <td>1</td>\n",
       "    </tr>\n",
       "    <tr>\n",
       "      <th>2076884</th>\n",
       "      <td>Fully Paid</td>\n",
       "      <td>1</td>\n",
       "    </tr>\n",
       "    <tr>\n",
       "      <th>229477</th>\n",
       "      <td>Charged Off</td>\n",
       "      <td>0</td>\n",
       "    </tr>\n",
       "    <tr>\n",
       "      <th>981761</th>\n",
       "      <td>Fully Paid</td>\n",
       "      <td>1</td>\n",
       "    </tr>\n",
       "    <tr>\n",
       "      <th>1307883</th>\n",
       "      <td>Charged Off</td>\n",
       "      <td>0</td>\n",
       "    </tr>\n",
       "    <tr>\n",
       "      <th>1659952</th>\n",
       "      <td>Fully Paid</td>\n",
       "      <td>1</td>\n",
       "    </tr>\n",
       "    <tr>\n",
       "      <th>78202</th>\n",
       "      <td>Fully Paid</td>\n",
       "      <td>1</td>\n",
       "    </tr>\n",
       "    <tr>\n",
       "      <th>707594</th>\n",
       "      <td>Fully Paid</td>\n",
       "      <td>1</td>\n",
       "    </tr>\n",
       "    <tr>\n",
       "      <th>1249628</th>\n",
       "      <td>Charged Off</td>\n",
       "      <td>0</td>\n",
       "    </tr>\n",
       "    <tr>\n",
       "      <th>1594468</th>\n",
       "      <td>Charged Off</td>\n",
       "      <td>0</td>\n",
       "    </tr>\n",
       "    <tr>\n",
       "      <th>1962345</th>\n",
       "      <td>Fully Paid</td>\n",
       "      <td>1</td>\n",
       "    </tr>\n",
       "    <tr>\n",
       "      <th>1296207</th>\n",
       "      <td>Fully Paid</td>\n",
       "      <td>1</td>\n",
       "    </tr>\n",
       "    <tr>\n",
       "      <th>239497</th>\n",
       "      <td>Charged Off</td>\n",
       "      <td>0</td>\n",
       "    </tr>\n",
       "    <tr>\n",
       "      <th>911385</th>\n",
       "      <td>Fully Paid</td>\n",
       "      <td>1</td>\n",
       "    </tr>\n",
       "    <tr>\n",
       "      <th>1742648</th>\n",
       "      <td>Fully Paid</td>\n",
       "      <td>1</td>\n",
       "    </tr>\n",
       "    <tr>\n",
       "      <th>919210</th>\n",
       "      <td>Fully Paid</td>\n",
       "      <td>1</td>\n",
       "    </tr>\n",
       "    <tr>\n",
       "      <th>1070795</th>\n",
       "      <td>Fully Paid</td>\n",
       "      <td>1</td>\n",
       "    </tr>\n",
       "  </tbody>\n",
       "</table>\n",
       "</div>"
      ],
      "text/plain": [
       "         loan_status  loan_status_encode\n",
       "1167845   Fully Paid                   1\n",
       "393979    Fully Paid                   1\n",
       "1809286   Fully Paid                   1\n",
       "97350     Fully Paid                   1\n",
       "2076884   Fully Paid                   1\n",
       "229477   Charged Off                   0\n",
       "981761    Fully Paid                   1\n",
       "1307883  Charged Off                   0\n",
       "1659952   Fully Paid                   1\n",
       "78202     Fully Paid                   1\n",
       "707594    Fully Paid                   1\n",
       "1249628  Charged Off                   0\n",
       "1594468  Charged Off                   0\n",
       "1962345   Fully Paid                   1\n",
       "1296207   Fully Paid                   1\n",
       "239497   Charged Off                   0\n",
       "911385    Fully Paid                   1\n",
       "1742648   Fully Paid                   1\n",
       "919210    Fully Paid                   1\n",
       "1070795   Fully Paid                   1"
      ]
     },
     "execution_count": 45,
     "metadata": {},
     "output_type": "execute_result"
    }
   ],
   "source": [
    "# Thêm cột loan_status_encode từ cột loan_status, nếu giá trị là fully paid thì là 1, còn lại là 0, không dùng label encode\n",
    "data['loan_status_encode'] = np.where(data['loan_status'] == 'Fully Paid', 1, 0)\n",
    "data[['loan_status','loan_status_encode']].sample(10)\n",
    "data.rename(columns={'loan_status_encode': 'loan_status'}, inplace=True)\n",
    "# dataset.loc[dataset['loan_status'] == 'Fully Paid', 'loan_status'] = 1\n",
    "# dataset.loc[dataset['loan_status'] == 'Charged Off', 'loan_status'] = 0"
   ]
  },
  {
   "cell_type": "code",
   "execution_count": 46,
   "metadata": {
    "id": "jwyfP8LtRAQR"
   },
   "outputs": [],
   "source": [
    "# String indexer cột grade\n",
    "data['grade'] = data['grade'].astype(str)\n",
    "temp = data['grade'].unique()\n",
    "dct = {k:v for v, k in enumerate(np.sort(temp))}\n",
    "data['grade_encode'] = data['grade'].map(dct)\n",
    "# temp['grade_encode'] = temp['grade'].astype('category').cat.codes\n",
    "# data['grade_encode'] = le.fit_transform(data['grade'])\n",
    "\n",
    "# String indexer cột sub_grade\n",
    "data['sub_grade'] = data['sub_grade'].astype(str)\n",
    "temp = data['sub_grade'].unique()\n",
    "dct = {k:v for v, k in enumerate(np.sort(temp))}\n",
    "data['sub_grade_encode'] = data['sub_grade'].map(dct)\n",
    "# data['sub_grade_encode'] = le.fit_transform(data['sub_grade'])\n",
    "\n",
    "# String indexer cột home_ownership\n",
    "data['home_ownership'] = data['home_ownership'].astype(str)\n",
    "temp = data['home_ownership'].unique()\n",
    "dct = {k:v for v, k in enumerate(np.sort(temp))}\n",
    "data['home_ownership_encode'] = data['home_ownership'].map(dct)\n",
    "# data['home_ownership_encode'] = le.fit_transform(data['home_ownership'])\n",
    "\n",
    "# # String indexer cột purpose\n",
    "data['purpose'] = data['purpose'].astype(str)\n",
    "temp = data['purpose'].unique()\n",
    "dct = {k:v for v, k in enumerate(np.sort(temp))}\n",
    "data['purpose_encode'] = data['purpose'].map(dct)\n",
    "# data['purpose_encode'] = le.fit_transform(data['purpose'])\n",
    "\n",
    "# String indexer cột emp_length\n",
    "data['emp_length'] = data['emp_length'].astype(str)\n",
    "temp = data['emp_length'].unique()\n",
    "dct = {k:v for v, k in enumerate(np.sort(temp))}\n",
    "data['emp_length_encode'] = data['emp_length'].map(dct)\n",
    "# data['emp_length_encode'] = le.fit_transform(data['emp_length'])\n",
    "\n",
    "# Drop các cột\n",
    "data.drop(columns=['loan_status', 'grade', 'sub_grade', 'home_ownership', 'purpose', 'emp_length'], inplace=True)"
   ]
  },
  {
   "cell_type": "markdown",
   "metadata": {
    "id": "5JmYjSeTe_f4"
   },
   "source": [
    "# Build Model"
   ]
  },
  {
   "cell_type": "code",
   "execution_count": 47,
   "metadata": {
    "id": "ijOm5IOlQgpx"
   },
   "outputs": [],
   "source": [
    "cols = ['grade_encode', 'sub_grade_encode', 'home_ownership_encode', 'purpose_encode', 'emp_length_encode']"
   ]
  },
  {
   "cell_type": "code",
   "execution_count": 74,
   "metadata": {
    "id": "0q5S3UMdYY_O"
   },
   "outputs": [],
   "source": [
    "X = data.drop('loan_status', axis=1)\n",
    "y = data['loan_status']"
   ]
  },
  {
   "cell_type": "code",
   "execution_count": 75,
   "metadata": {
    "id": "SiowPIyEhyg0"
   },
   "outputs": [],
   "source": [
    "X_train, X_test, y_train, y_test = train_test_split(X, y, test_size=0.3, random_state=42)"
   ]
  },
  {
   "cell_type": "code",
   "execution_count": 76,
   "metadata": {
    "id": "cH2IEii2m_xj"
   },
   "outputs": [
    {
     "name": "stderr",
     "output_type": "stream",
     "text": [
      "C:\\Users\\Quoc Trung\\anaconda3\\envs\\PQT\\lib\\site-packages\\sklearn\\linear_model\\_logistic.py:818: ConvergenceWarning: lbfgs failed to converge (status=1):\n",
      "STOP: TOTAL NO. of ITERATIONS REACHED LIMIT.\n",
      "\n",
      "Increase the number of iterations (max_iter) or scale the data as shown in:\n",
      "    https://scikit-learn.org/stable/modules/preprocessing.html\n",
      "Please also refer to the documentation for alternative solver options:\n",
      "    https://scikit-learn.org/stable/modules/linear_model.html#logistic-regression\n",
      "  extra_warning_msg=_LOGISTIC_SOLVER_CONVERGENCE_MSG,\n",
      "\n",
      "STOPPING EARLY DUE TO KEYBOARD INTERRUPT..."
     ]
    }
   ],
   "source": [
    "#importing the necessary libraries\n",
    "from mlxtend.feature_selection import SequentialFeatureSelector as SFS\n",
    "# Sequential Forward Selection(sfs)\n",
    "sfs = SFS(LogisticRegression(),\n",
    "          k_features=15,\n",
    "          forward=False,\n",
    "          floating=False,\n",
    "          scoring = 'precision',\n",
    "          cv = 0).fit(X_train, y_train)"
   ]
  },
  {
   "cell_type": "code",
   "execution_count": null,
   "metadata": {},
   "outputs": [],
   "source": [
    "sfs.k_feature_names_"
   ]
  },
  {
   "cell_type": "code",
   "execution_count": 77,
   "metadata": {
    "id": "GqU1QLoBZM42"
   },
   "outputs": [],
   "source": [
    "# Chuẩn hóa dữ liệu\n",
    "scaler = StandardScaler()\n",
    "X_train = scaler.fit_transform(X_train)\n",
    "X_test = scaler.transform(X_test)"
   ]
  },
  {
   "cell_type": "code",
   "execution_count": 78,
   "metadata": {
    "id": "5utzw3Q6ZYQu"
   },
   "outputs": [
    {
     "name": "stderr",
     "output_type": "stream",
     "text": [
      "C:\\Users\\Quoc Trung\\anaconda3\\envs\\PQT\\lib\\site-packages\\sklearn\\linear_model\\_logistic.py:818: ConvergenceWarning: lbfgs failed to converge (status=1):\n",
      "STOP: TOTAL NO. of ITERATIONS REACHED LIMIT.\n",
      "\n",
      "Increase the number of iterations (max_iter) or scale the data as shown in:\n",
      "    https://scikit-learn.org/stable/modules/preprocessing.html\n",
      "Please also refer to the documentation for alternative solver options:\n",
      "    https://scikit-learn.org/stable/modules/linear_model.html#logistic-regression\n",
      "  extra_warning_msg=_LOGISTIC_SOLVER_CONVERGENCE_MSG,\n"
     ]
    },
    {
     "data": {
      "text/plain": [
       "LogisticRegression()"
      ]
     },
     "execution_count": 78,
     "metadata": {},
     "output_type": "execute_result"
    }
   ],
   "source": [
    "# Tạo mô hình logistic regression\n",
    "model_le = LogisticRegression()\n",
    "model_le.fit(X_train, y_train)"
   ]
  },
  {
   "cell_type": "code",
   "execution_count": 79,
   "metadata": {
    "id": "EMx92UfsZM3e"
   },
   "outputs": [
    {
     "name": "stdout",
     "output_type": "stream",
     "text": [
      "Accuracy score: 0.9988082052959293\n",
      "Confusion matrix: \n",
      "[[ 79784    442]\n",
      " [    39 323328]]\n",
      "Classification report: \n",
      "              precision    recall  f1-score   support\n",
      "\n",
      "           0       1.00      0.99      1.00     80226\n",
      "           1       1.00      1.00      1.00    323367\n",
      "\n",
      "    accuracy                           1.00    403593\n",
      "   macro avg       1.00      1.00      1.00    403593\n",
      "weighted avg       1.00      1.00      1.00    403593\n",
      "\n"
     ]
    }
   ],
   "source": [
    "# Đánh giá kết quả\n",
    "prediction = model_le.predict(X_test)\n",
    "print(f'Accuracy score: {accuracy_score(y_test, prediction)}')\n",
    "\n",
    "# Confusion matrix\n",
    "print(f'Confusion matrix: \\n{confusion_matrix(y_test, prediction)}')\n",
    "\n",
    "# Classification report\n",
    "print(f'Classification report: \\n{classification_report(y_test, prediction)}')"
   ]
  },
  {
   "cell_type": "code",
   "execution_count": 80,
   "metadata": {
    "id": "mdhOfIUXgGG5"
   },
   "outputs": [
    {
     "data": {
      "image/png": "[encoded data removed]",
      "text/plain": [
       "<Figure size 640x480 with 1 Axes>"
      ]
     },
     "metadata": {},
     "output_type": "display_data"
    }
   ],
   "source": [
    "# ROC Curve\n",
    "from sklearn.metrics import roc_curve, roc_auc_score, auc\n",
    "y_pred_proba = model_le.predict_proba(X_test)[::,1]\n",
    "fpr, tpr, _ = roc_curve(y_test,  y_pred_proba)\n",
    "auc = roc_auc_score(y_test, y_pred_proba)\n",
    "plt.plot(fpr,tpr,label=\"data 1, auc=\"+str(auc))\n",
    "plt.legend(loc=4)\n",
    "plt.show()"
   ]
  },
  {
   "cell_type": "code",
   "execution_count": 52,
   "metadata": {
    "id": "HbCxG5_6iT2N"
   },
   "outputs": [],
   "source": [
    "# import xgboost as xgb"
   ]
  },
  {
   "cell_type": "code",
   "execution_count": 67,
   "metadata": {
    "id": "2gryF7tFiVEe"
   },
   "outputs": [],
   "source": [
    "# train_y = data['loan_status']\n",
    "# df_train = data.drop(['loan_status'], axis=1)\n",
    "# feat_names = df_train.columns.values.tolist()\n",
    "\n",
    "# xgb_params = {\n",
    "#     'eta': 0.05,\n",
    "#     'max_depth': 10,\n",
    "#     'subsample': 0.7,\n",
    "#     'colsample_bytree': 0.7,\n",
    "#     'objective': 'reg:linear',\n",
    "#     'verbosity' : 0,\n",
    "#     'silent': 1,\n",
    "#     'seed' : 0\n",
    "# }\n",
    "\n",
    "# dtrain = xgb.DMatrix(df_train, train_y, feature_names=feat_names)\n",
    "# xgb_model = xgb.train(dict(xgb_params, silent=0), dtrain, num_boost_round=150)"
   ]
  },
  {
   "cell_type": "code",
   "execution_count": null,
   "metadata": {
    "id": "Ja_igWZYjAsu"
   },
   "outputs": [],
   "source": [
    "# fig, ax = plt.subplots(figsize=(5,8))\n",
    "# xgb.plot_importance(xgb_model, max_num_features=50, height=0.5, ax=ax, show_values=False)\n",
    "# plt.grid(False)\n",
    "# plt.tick_params(left = False, bottom = False)\n",
    "# plt.xticks([])\n",
    "# plt.show()"
   ]
  },
  {
   "cell_type": "code",
   "execution_count": null,
   "metadata": {
    "id": "QGhGx62VVDAm"
   },
   "outputs": [],
   "source": [
    "# import statsmodels.regression.linear_model as sm\n",
    "# # add a column of ones as integer data type\n",
    "# X = np.append(arr = np.ones((50, 1)).astype(int),\n",
    "#               values = X, axis = 1)\n",
    "# # choose a Significance level usually 0.05, if p>0.05\n",
    "# #  for the highest values parameter, remove that value\n",
    "# x_opt = x[:, [0, 1, 2, 3, 4, 5]]\n",
    "# ols = sm.OLS(endog = y, exog = x_opt).fit()\n",
    "# ols.summary()"
   ]
  },
  {
   "cell_type": "code",
   "execution_count": null,
   "metadata": {
    "id": "pxMKcZyYKsQu"
   },
   "outputs": [],
   "source": [
    "# from sklearn.feature_selection import SequentialFeatureSelector\n",
    "# backward_selector = SequentialFeatureSelector(LogisticRegression(),\n",
    "#                                               n_features_to_select=10,\n",
    "#                                               direction='backward',\n",
    "#                                               scoring='accuracy').fit(X_train, y_train)"
   ]
  },
  {
   "cell_type": "code",
   "execution_count": null,
   "metadata": {
    "id": "zRBGBqc4fo6L"
   },
   "outputs": [],
   "source": [
    "# # Tạo mô hình KNN\n",
    "# model_knn = KNeighborsClassifier(n_neighbors=3)\n",
    "# model_knn.fit(X_train, y_train)"
   ]
  },
  {
   "cell_type": "code",
   "execution_count": null,
   "metadata": {
    "id": "FnYMLbWHf75R"
   },
   "outputs": [],
   "source": [
    "# # Đánh giá kết quả\n",
    "# prediction = model_knn.predict(X_test)\n",
    "# print(f'Accuracy score: {accuracy_score(y_test, prediction)}')\n",
    "\n",
    "# # Confusion matrix\n",
    "# print(f'Confusion matrix: \\n{confusion_matrix(y_test, prediction)}')\n",
    "\n",
    "# # Classification report\n",
    "# print(f'Classification report: \\n{classification_report(y_test, prediction)}')"
   ]
  }
 ],
 "metadata": {
  "colab": {
   "provenance": []
  },
  "kernelspec": {
   "display_name": "Python 3 (ipykernel)",
   "language": "python",
   "name": "python3"
  },
  "language_info": {
   "codemirror_mode": {
    "name": "ipython",
    "version": 3
   },
   "file_extension": ".py",
   "mimetype": "text/x-python",
   "name": "python",
   "nbconvert_exporter": "python",
   "pygments_lexer": "ipython3",
   "version": "3.7.1"
  }
 },
 "nbformat": 4,
 "nbformat_minor": 1
}
